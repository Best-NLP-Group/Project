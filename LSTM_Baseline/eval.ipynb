{
 "cells": [
  {
   "cell_type": "code",
   "execution_count": 11,
   "metadata": {},
   "outputs": [],
   "source": [
    "import torch\n",
    "import torch.nn as nn\n",
    "import torch.optim as optim\n",
    "import numpy as np\n",
    "import random\n",
    "from torch.utils.data import Dataset, DataLoader\n",
    "from torch.nn.utils.rnn import pad_sequence\n",
    "import jsonlines\n",
    "from tqdm import tqdm\n",
    "import nltk\n",
    "from nltk.tokenize import word_tokenize\n",
    "import torch.nn.functional as F\n",
    "from sklearn.metrics import f1_score, accuracy_score\n",
    "import copy"
   ]
  },
  {
   "cell_type": "code",
   "execution_count": 12,
   "metadata": {},
   "outputs": [
    {
     "data": {
      "text/plain": [
       "device(type='cpu')"
      ]
     },
     "execution_count": 12,
     "metadata": {},
     "output_type": "execute_result"
    }
   ],
   "source": [
    "device = torch.device(\"cuda\" if torch.cuda.is_available() else \"cpu\")\n",
    "device"
   ]
  },
  {
   "cell_type": "code",
   "execution_count": 13,
   "metadata": {},
   "outputs": [],
   "source": [
    "DATA_PATH = '../data'"
   ]
  },
  {
   "cell_type": "code",
   "execution_count": 14,
   "metadata": {},
   "outputs": [
    {
     "name": "stderr",
     "output_type": "stream",
     "text": [
      "[nltk_data] Downloading package punkt to\n",
      "[nltk_data]     C:\\Users\\Saurav\\AppData\\Roaming\\nltk_data...\n",
      "[nltk_data]   Package punkt is already up-to-date!\n",
      "[nltk_data] Downloading package punkt_tab to\n",
      "[nltk_data]     C:\\Users\\Saurav\\AppData\\Roaming\\nltk_data...\n",
      "[nltk_data]   Package punkt_tab is already up-to-date!\n"
     ]
    },
    {
     "data": {
      "text/plain": [
       "True"
      ]
     },
     "execution_count": 14,
     "metadata": {},
     "output_type": "execute_result"
    }
   ],
   "source": [
    "nltk.download('punkt')\n",
    "nltk.download('punkt_tab')"
   ]
  },
  {
   "cell_type": "code",
   "execution_count": 15,
   "metadata": {},
   "outputs": [],
   "source": [
    "class DiplomacyVocabulary(Dataset):\n",
    "    def __init__(self):\n",
    "        self.word2idx = {\"PAD\": 0, \"UNK\": 1}\n",
    "        self.idx2word = {0: \"PAD\", 1: \"UNK\"}\n",
    "        \n",
    "    def add_token(self, token):\n",
    "        if token not in self.word2idx:\n",
    "            idx = len(self.word2idx)\n",
    "            self.word2idx[token] = idx\n",
    "            self.idx2word[idx] = token\n",
    "        \n",
    "    def __len__(self):\n",
    "        return len(self.word2idx)\n",
    "    \n",
    "    def tokenize(self, message):\n",
    "        message = message.lower()\n",
    "        tokens = word_tokenize(message)\n",
    "        return [self.word2idx.get(token, 1) for token in tokens]"
   ]
  },
  {
   "cell_type": "code",
   "execution_count": 16,
   "metadata": {},
   "outputs": [],
   "source": [
    "class DiplomacyDataset(Dataset):\n",
    "    def __init__(self, file_path, vocab=None, construct=False):\n",
    "        self.data = []\n",
    "        self.vocab = vocab if vocab else DiplomacyVocabulary()\n",
    "        \n",
    "        with jsonlines.open(file_path, 'r') as f:\n",
    "            for line in f:\n",
    "                for i, message in enumerate(line['messages']):\n",
    "                    if line['sender_labels'][i] == 'NOANNOTATION':\n",
    "                        continue\n",
    "                    self.data.append({\n",
    "                        'message': message,\n",
    "                        'label': 1 if line['sender_labels'][i] else 0\n",
    "                    })\n",
    "                    \n",
    "                    if construct:\n",
    "                        tokens = word_tokenize(message)\n",
    "                        for token in tokens:\n",
    "                            self.vocab.add_token(token)\n",
    "                \n",
    "    def __len__(self):\n",
    "        return len(self.data)\n",
    "    \n",
    "    def __getitem__(self, idx):\n",
    "        tokens = self.vocab.tokenize(self.data[idx]['message'])\n",
    "        \n",
    "        return {\n",
    "            'tokens': torch.tensor(tokens, dtype=torch.long),\n",
    "            'label': torch.tensor(self.data[idx]['label'], dtype=torch.long),\n",
    "        }"
   ]
  },
  {
   "cell_type": "code",
   "execution_count": 17,
   "metadata": {},
   "outputs": [],
   "source": [
    "def collate_fn(batch):\n",
    "    batch = sorted(batch, key=lambda x: len(x['tokens']), reverse=True)\n",
    "    \n",
    "    tokens = pad_sequence([item['tokens'] for item in batch], batch_first=True, padding_value=0)\n",
    "    labels = torch.stack([item['label'] for item in batch])\n",
    "    \n",
    "    return {\n",
    "        'tokens': tokens,\n",
    "        'labels': labels,\n",
    "    }"
   ]
  },
  {
   "cell_type": "code",
   "execution_count": 18,
   "metadata": {},
   "outputs": [],
   "source": [
    "train_dataset = DiplomacyDataset(f'{DATA_PATH}/train.jsonl', construct=True)\n",
    "train_loader = DataLoader(train_dataset, batch_size=32, shuffle=True, collate_fn=collate_fn)\n",
    "vocab = train_dataset.vocab\n",
    "\n",
    "test_dataset = DiplomacyDataset(f'{DATA_PATH}/test.jsonl', vocab=vocab)\n",
    "test_loader = DataLoader(test_dataset, batch_size=32, shuffle=False, collate_fn=collate_fn)"
   ]
  },
  {
   "cell_type": "code",
   "execution_count": 19,
   "metadata": {},
   "outputs": [],
   "source": [
    "class LSTM_Model(nn.Module):\n",
    "    def __init__(self, vocab_size, pretrained_embeddings=None, embedding_dim=200, hidden_size=100):\n",
    "        super(LSTM_Model, self).__init__()\n",
    "        \n",
    "        self.embedding = nn.Embedding(vocab_size, embedding_dim)\n",
    "        if pretrained_embeddings is not None:\n",
    "            self.embedding.weight.data.copy_(torch.from_numpy(pretrained_embeddings))\n",
    "            self.embedding.weight.requires_grad = False\n",
    "        self.lstm = nn.LSTM(embedding_dim, hidden_size, batch_first=True, bidirectional=True)\n",
    "        self.dropout = nn.Dropout(0.5)\n",
    "        self.fc = nn.Linear(hidden_size * 2, 1)\n",
    "        \n",
    "    def forward(self, tokens):\n",
    "        embeddings = self.embedding(tokens)\n",
    "        \n",
    "        lstm_out, _ = self.lstm(embeddings)\n",
    "        \n",
    "        pooled_out, _ = torch.max(lstm_out, dim=1)\n",
    "        \n",
    "        pooled_out = self.dropout(pooled_out)\n",
    "        \n",
    "        logits = self.fc(pooled_out)\n",
    "        return logits.squeeze(1)"
   ]
  },
  {
   "cell_type": "code",
   "execution_count": 20,
   "metadata": {},
   "outputs": [
    {
     "name": "stdout",
     "output_type": "stream",
     "text": [
      "Test Macro F1: 0.5216035825665345\n",
      "Test Weighted F1: 0.830274129151589\n",
      "Test Accuracy: 0.8143013498723094\n"
     ]
    }
   ],
   "source": [
    "model = LSTM_Model(vocab_size=len(vocab)).to(device)\n",
    "model.load_state_dict(torch.load('model.pth'))\n",
    "\n",
    "model.eval()\n",
    "with torch.no_grad():\n",
    "    test_preds = []\n",
    "    test_labels = []\n",
    "    for batch in test_loader:\n",
    "        tokens = batch['tokens'].to(device)\n",
    "        labels = batch['labels'].float().to(device)\n",
    "        \n",
    "        logits = model(tokens)\n",
    "        preds = (logits > 0.5).float()\n",
    "        \n",
    "        test_preds.extend(preds.cpu().numpy())\n",
    "        test_labels.extend(labels.cpu().numpy())\n",
    "        \n",
    "    f1 = f1_score(test_labels, test_preds, average='macro')\n",
    "    weighted_f1 = f1_score(test_labels, test_preds, average='weighted')\n",
    "    accuracy = accuracy_score(test_labels, test_preds)\n",
    "    \n",
    "    \n",
    "print(f'Test Macro F1: {f1}')\n",
    "print(f'Test Weighted F1: {weighted_f1}')\n",
    "print(f'Test Accuracy: {accuracy}')"
   ]
  }
 ],
 "metadata": {
  "kernelspec": {
   "display_name": "Python 3",
   "language": "python",
   "name": "python3"
  },
  "language_info": {
   "codemirror_mode": {
    "name": "ipython",
    "version": 3
   },
   "file_extension": ".py",
   "mimetype": "text/x-python",
   "name": "python",
   "nbconvert_exporter": "python",
   "pygments_lexer": "ipython3",
   "version": "3.10.11"
  }
 },
 "nbformat": 4,
 "nbformat_minor": 2
}
