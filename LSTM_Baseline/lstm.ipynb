{
 "cells": [
  {
   "cell_type": "code",
   "execution_count": null,
   "metadata": {},
   "outputs": [],
   "source": [
    "import torch\n",
    "import torch.nn as nn\n",
    "import torch.optim as optim\n",
    "import numpy as np\n",
    "import random\n",
    "from torch.utils.data import Dataset, DataLoader\n",
    "from torch.nn.utils.rnn import pad_sequence\n",
    "import jsonlines\n",
    "from tqdm import tqdm\n",
    "import nltk\n",
    "from nltk.tokenize import word_tokenize\n",
    "import torch.nn.functional as F\n",
    "from sklearn.metrics import f1_score, accuracy_score"
   ]
  },
  {
   "cell_type": "code",
   "execution_count": 139,
   "metadata": {},
   "outputs": [
    {
     "data": {
      "text/plain": [
       "device(type='cpu')"
      ]
     },
     "execution_count": 139,
     "metadata": {},
     "output_type": "execute_result"
    }
   ],
   "source": [
    "device = torch.device(\"cuda\" if torch.cuda.is_available() else \"cpu\")\n",
    "device"
   ]
  },
  {
   "cell_type": "code",
   "execution_count": 140,
   "metadata": {},
   "outputs": [],
   "source": [
    "DATA_PATH = '../data'"
   ]
  },
  {
   "cell_type": "code",
   "execution_count": 141,
   "metadata": {},
   "outputs": [],
   "source": [
    "SEED = 0\n",
    "torch.manual_seed(SEED)\n",
    "torch.cuda.manual_seed(SEED)\n",
    "np.random.seed(SEED)\n",
    "random.seed(SEED)"
   ]
  },
  {
   "cell_type": "code",
   "execution_count": 142,
   "metadata": {},
   "outputs": [
    {
     "name": "stderr",
     "output_type": "stream",
     "text": [
      "[nltk_data] Downloading package punkt to\n",
      "[nltk_data]     C:\\Users\\Saurav\\AppData\\Roaming\\nltk_data...\n",
      "[nltk_data]   Package punkt is already up-to-date!\n",
      "[nltk_data] Downloading package punkt_tab to\n",
      "[nltk_data]     C:\\Users\\Saurav\\AppData\\Roaming\\nltk_data...\n",
      "[nltk_data]   Package punkt_tab is already up-to-date!\n"
     ]
    },
    {
     "data": {
      "text/plain": [
       "True"
      ]
     },
     "execution_count": 142,
     "metadata": {},
     "output_type": "execute_result"
    }
   ],
   "source": [
    "nltk.download('punkt')\n",
    "nltk.download('punkt_tab')"
   ]
  },
  {
   "cell_type": "code",
   "execution_count": null,
   "metadata": {},
   "outputs": [],
   "source": [
    "class DiplomacyVocabulary(Dataset):\n",
    "    def __init__(self):\n",
    "        self.word2idx = {\"PAD\": 0, \"UNK\": 1}\n",
    "        self.idx2word = {0: \"PAD\", 1: \"UNK\"}\n",
    "        \n",
    "    def add_token(self, token):\n",
    "        if token not in self.word2idx:\n",
    "            idx = len(self.word2idx)\n",
    "            self.word2idx[token] = idx\n",
    "            self.idx2word[idx] = token\n",
    "        \n",
    "    def __len__(self):\n",
    "        return len(self.word2idx)\n",
    "    \n",
    "    def tokenize(self, message):\n",
    "        message = message.lower()\n",
    "        tokens = word_tokenize(message)\n",
    "        return [self.word2idx.get(token, 1) for token in tokens]"
   ]
  },
  {
   "cell_type": "code",
   "execution_count": 144,
   "metadata": {},
   "outputs": [],
   "source": [
    "class DiplomacyDataset(Dataset):\n",
    "    def __init__(self, file_path, vocab=None, construct=False):\n",
    "        self.data = []\n",
    "        self.vocab = vocab if vocab else DiplomacyVocabulary()\n",
    "        \n",
    "        with jsonlines.open(file_path, 'r') as f:\n",
    "            for line in f:\n",
    "                for i, message in enumerate(line['messages']):\n",
    "                    if line['sender_labels'][i] == 'NOANNOTATION':\n",
    "                        continue\n",
    "                    self.data.append({\n",
    "                        'message': message,\n",
    "                        'label': 1 if line['sender_labels'][i] else 0\n",
    "                    })\n",
    "                    \n",
    "                    if construct:\n",
    "                        tokens = word_tokenize(message)\n",
    "                        for token in tokens:\n",
    "                            self.vocab.add_token(token)\n",
    "                \n",
    "    def __len__(self):\n",
    "        return len(self.data)\n",
    "    \n",
    "    def __getitem__(self, idx):\n",
    "        tokens = self.vocab.tokenize(self.data[idx]['message'])\n",
    "        \n",
    "        return {\n",
    "            'tokens': torch.tensor(tokens, dtype=torch.long),\n",
    "            'label': torch.tensor(self.data[idx]['label'], dtype=torch.long),\n",
    "        }"
   ]
  },
  {
   "cell_type": "code",
   "execution_count": 145,
   "metadata": {},
   "outputs": [],
   "source": [
    "def collate_fn(batch):\n",
    "    batch = sorted(batch, key=lambda x: len(x['tokens']), reverse=True)\n",
    "    \n",
    "    tokens = pad_sequence([item['tokens'] for item in batch], batch_first=True, padding_value=0)\n",
    "    labels = torch.stack([item['label'] for item in batch])\n",
    "    \n",
    "    return {\n",
    "        'tokens': tokens,\n",
    "        'labels': labels,\n",
    "    }"
   ]
  },
  {
   "cell_type": "code",
   "execution_count": 146,
   "metadata": {},
   "outputs": [],
   "source": [
    "train_dataset = DiplomacyDataset(f'{DATA_PATH}/train.jsonl', construct=True)\n",
    "train_loader = DataLoader(train_dataset, batch_size=32, shuffle=True, collate_fn=collate_fn)\n",
    "vocab = train_dataset.vocab\n",
    "\n",
    "val_dataset = DiplomacyDataset(f'{DATA_PATH}/validation.jsonl', vocab=vocab)\n",
    "val_loader = DataLoader(val_dataset, batch_size=32, shuffle=False, collate_fn=collate_fn)\n",
    "\n",
    "test_dataset = DiplomacyDataset(f'{DATA_PATH}/test.jsonl', vocab=vocab)\n",
    "test_loader = DataLoader(test_dataset, batch_size=32, shuffle=False, collate_fn=collate_fn)"
   ]
  },
  {
   "cell_type": "code",
   "execution_count": null,
   "metadata": {},
   "outputs": [],
   "source": [
    "class LSTM_Model(nn.Module):\n",
    "    def __init__(self, vocab_size, pretrained_embeddings, embedding_dim=200, hidden_size=100):\n",
    "        super(LSTM_Model, self).__init__()\n",
    "        \n",
    "        self.embedding = nn.Embedding(vocab_size, embedding_dim)\n",
    "        self.embedding.weight.data.copy_(torch.from_numpy(pretrained_embeddings))\n",
    "        self.embedding.weight.requires_grad = False\n",
    "        self.lstm = nn.LSTM(embedding_dim, hidden_size, batch_first=True, bidirectional=True)\n",
    "        self.dropout = nn.Dropout(0.5)\n",
    "        self.fc = nn.Linear(hidden_size * 2, 1)\n",
    "        \n",
    "    def forward(self, tokens):\n",
    "        embeddings = self.embedding(tokens)\n",
    "        \n",
    "        lstm_out, _ = self.lstm(embeddings)\n",
    "        \n",
    "        pooled_out, _ = torch.max(lstm_out, dim=1)\n",
    "        \n",
    "        pooled_out = self.dropout(pooled_out)\n",
    "        \n",
    "        # apply sigmoid activation\n",
    "        logits = torch.sigmoid(pooled_out)"
   ]
  },
  {
   "cell_type": "code",
   "execution_count": 150,
   "metadata": {},
   "outputs": [
    {
     "name": "stderr",
     "output_type": "stream",
     "text": [
      "1193514it [00:20, 58560.68it/s]\n"
     ]
    }
   ],
   "source": [
    "embedding_path = '../embeddings/glove.twitter.27B.200d.txt'\n",
    "\n",
    "pretrained_embeddings = np.zeros((len(vocab), 200))\n",
    "\n",
    "with open(embedding_path, 'r', encoding='utf-8') as f:\n",
    "    for line in tqdm(f):\n",
    "        values = line.split()\n",
    "        word = values[0]\n",
    "        if word in vocab.word2idx:\n",
    "            idx = vocab.word2idx[word]\n",
    "            pretrained_embeddings[idx] = np.array(values[1:], dtype='float32')"
   ]
  },
  {
   "cell_type": "code",
   "execution_count": null,
   "metadata": {},
   "outputs": [
    {
     "name": "stderr",
     "output_type": "stream",
     "text": [
      "100%|██████████| 411/411 [00:22<00:00, 17.88it/s]\n"
     ]
    },
    {
     "name": "stdout",
     "output_type": "stream",
     "text": [
      "Epoch 1/15\n",
      "Train Loss: 0.01731064073860613\n"
     ]
    },
    {
     "name": "stderr",
     "output_type": "stream",
     "text": [
      "  7%|▋         | 1/15 [00:23<05:35, 23.93s/it]"
     ]
    },
    {
     "name": "stdout",
     "output_type": "stream",
     "text": [
      "Validation F1: 0.9798270893371758\n",
      "Validation Accuracy: 0.96045197740113\n"
     ]
    },
    {
     "name": "stderr",
     "output_type": "stream",
     "text": [
      "100%|██████████| 411/411 [00:22<00:00, 18.51it/s]\n"
     ]
    },
    {
     "name": "stdout",
     "output_type": "stream",
     "text": [
      "Epoch 2/15\n",
      "Train Loss: 0.012377512930448274\n"
     ]
    },
    {
     "name": "stderr",
     "output_type": "stream",
     "text": [
      " 13%|█▎        | 2/15 [00:46<05:04, 23.40s/it]"
     ]
    },
    {
     "name": "stdout",
     "output_type": "stream",
     "text": [
      "Validation F1: 0.9798270893371758\n",
      "Validation Accuracy: 0.96045197740113\n"
     ]
    },
    {
     "name": "stderr",
     "output_type": "stream",
     "text": [
      "100%|██████████| 411/411 [00:22<00:00, 18.43it/s]\n"
     ]
    },
    {
     "name": "stdout",
     "output_type": "stream",
     "text": [
      "Epoch 3/15\n",
      "Train Loss: 0.012270296426714282\n"
     ]
    },
    {
     "name": "stderr",
     "output_type": "stream",
     "text": [
      " 20%|██        | 3/15 [01:10<04:39, 23.26s/it]"
     ]
    },
    {
     "name": "stdout",
     "output_type": "stream",
     "text": [
      "Validation F1: 0.9798270893371758\n",
      "Validation Accuracy: 0.96045197740113\n"
     ]
    },
    {
     "name": "stderr",
     "output_type": "stream",
     "text": [
      "100%|██████████| 411/411 [00:22<00:00, 18.45it/s]\n"
     ]
    },
    {
     "name": "stdout",
     "output_type": "stream",
     "text": [
      "Epoch 4/15\n",
      "Train Loss: 0.012218155585305307\n"
     ]
    },
    {
     "name": "stderr",
     "output_type": "stream",
     "text": [
      " 27%|██▋       | 4/15 [01:33<04:15, 23.21s/it]"
     ]
    },
    {
     "name": "stdout",
     "output_type": "stream",
     "text": [
      "Validation F1: 0.9798270893371758\n",
      "Validation Accuracy: 0.96045197740113\n"
     ]
    },
    {
     "name": "stderr",
     "output_type": "stream",
     "text": [
      "100%|██████████| 411/411 [00:24<00:00, 16.52it/s]\n"
     ]
    },
    {
     "name": "stdout",
     "output_type": "stream",
     "text": [
      "Epoch 5/15\n",
      "Train Loss: 0.012146962626152865\n"
     ]
    },
    {
     "name": "stderr",
     "output_type": "stream",
     "text": [
      " 33%|███▎      | 5/15 [01:59<04:02, 24.22s/it]"
     ]
    },
    {
     "name": "stdout",
     "output_type": "stream",
     "text": [
      "Validation F1: 0.9798270893371758\n",
      "Validation Accuracy: 0.96045197740113\n"
     ]
    },
    {
     "name": "stderr",
     "output_type": "stream",
     "text": [
      "100%|██████████| 411/411 [00:23<00:00, 17.21it/s]\n"
     ]
    },
    {
     "name": "stdout",
     "output_type": "stream",
     "text": [
      "Epoch 6/15\n",
      "Train Loss: 0.012162367674072302\n"
     ]
    },
    {
     "name": "stderr",
     "output_type": "stream",
     "text": [
      " 33%|███▎      | 5/15 [02:23<04:47, 28.78s/it]"
     ]
    },
    {
     "name": "stdout",
     "output_type": "stream",
     "text": [
      "Validation F1: 0.9798270893371758\n",
      "Validation Accuracy: 0.96045197740113\n",
      "Early stopping at epoch 6\n"
     ]
    },
    {
     "name": "stderr",
     "output_type": "stream",
     "text": [
      "\n"
     ]
    }
   ],
   "source": [
    "model = LSTM_Model(vocab_size=len(vocab), pretrained_embeddings=pretrained_embeddings).to(device)\n",
    "\n",
    "optimizer = optim.Adam(model.parameters(), lr=0.003)\n",
    "\n",
    "criteria = nn.CrossEntropyLoss(weight=torch.tensor([1.0, 30.0]).to(device))\n",
    "\n",
    "EPOCHS = 15\n",
    "PATIENCE = 5\n",
    "\n",
    "patience_counter = 0\n",
    "best_f1 = 0.0\n",
    "best_model = None\n",
    "\n",
    "for epoch in range(EPOCHS):\n",
    "    model.train()\n",
    "    total_loss = 0.0\n",
    "    for batch in tqdm(train_loader):\n",
    "        tokens = batch['tokens'].to(device)\n",
    "        labels = batch['labels'].to(device)\n",
    "        \n",
    "        optimizer.zero_grad()\n",
    "        \n",
    "        logits = model(tokens)\n",
    "        \n",
    "        loss = criteria(logits.view(-1, 2), labels.view(-1))\n",
    "        loss.backward()\n",
    "        \n",
    "        optimizer.step()\n",
    "        \n",
    "        total_loss += loss.item()\n",
    "        \n",
    "    print(f'Epoch {epoch+1}/{EPOCHS}')\n",
    "    print(f'Train Loss: {total_loss/len(train_loader)}')\n",
    "        \n",
    "    model.eval()\n",
    "    val_preds = []\n",
    "    val_labels = []\n",
    "    with torch.no_grad():\n",
    "        for batch in val_loader:\n",
    "            tokens = batch['tokens'].to(device)\n",
    "            labels = batch['labels'].to(device)\n",
    "            \n",
    "            logits = model(tokens)\n",
    "            preds = torch.argmax(logits, dim=1)\n",
    "            \n",
    "            val_preds.extend(preds.cpu().numpy())\n",
    "            val_labels.extend(labels.cpu().numpy())\n",
    "            \n",
    "    f1 = f1_score(val_labels, val_preds)\n",
    "    accuracy = accuracy_score(val_labels, val_preds)\n",
    "    \n",
    "    if f1 > best_f1:\n",
    "        best_f1 = f1\n",
    "        best_model = model.state_dict().copy()\n",
    "        patience_counter = 0\n",
    "    else:\n",
    "        patience_counter += 1\n",
    "        \n",
    "    print(f'Validation F1: {f1}')\n",
    "    print(f'Validation Accuracy: {accuracy}')\n",
    "        \n",
    "    if patience_counter >= PATIENCE:\n",
    "        print(f'Early stopping at epoch {epoch+1}')\n",
    "        break\n",
    "    \n",
    "torch.save(best_model, 'model.pth')"
   ]
  },
  {
   "cell_type": "code",
   "execution_count": 155,
   "metadata": {},
   "outputs": [
    {
     "name": "stdout",
     "output_type": "stream",
     "text": [
      "Test F1: 0.9542159481114079\n",
      "Test Accuracy: 0.9124407150674936\n"
     ]
    }
   ],
   "source": [
    "model = LSTM_Model(vocab_size=len(vocab), pretrained_embeddings=pretrained_embeddings).to(device)\n",
    "model.load_state_dict(torch.load('model.pth'))\n",
    "\n",
    "model.eval()\n",
    "with torch.no_grad():\n",
    "    test_preds = []\n",
    "    test_labels = []\n",
    "    for batch in test_loader:\n",
    "        tokens = batch['tokens'].to(device)\n",
    "        labels = batch['labels'].to(device)\n",
    "        \n",
    "        logits = model(tokens)\n",
    "        preds = torch.argmax(logits, dim=1)\n",
    "        \n",
    "        test_preds.extend(preds.cpu().numpy())\n",
    "        test_labels.extend(labels.cpu().numpy())\n",
    "        \n",
    "    f1 = f1_score(test_labels, test_preds)\n",
    "    accuracy = accuracy_score(test_labels, test_preds)\n",
    "    \n",
    "print(f'Test F1: {f1}')\n",
    "print(f'Test Accuracy: {accuracy}')"
   ]
  }
 ],
 "metadata": {
  "kernelspec": {
   "display_name": "Python 3",
   "language": "python",
   "name": "python3"
  },
  "language_info": {
   "codemirror_mode": {
    "name": "ipython",
    "version": 3
   },
   "file_extension": ".py",
   "mimetype": "text/x-python",
   "name": "python",
   "nbconvert_exporter": "python",
   "pygments_lexer": "ipython3",
   "version": "3.10.11"
  }
 },
 "nbformat": 4,
 "nbformat_minor": 2
}
