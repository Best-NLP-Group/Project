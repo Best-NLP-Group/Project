{
 "cells": [
  {
   "cell_type": "code",
   "execution_count": 1,
   "metadata": {},
   "outputs": [],
   "source": [
    "import torch\n",
    "import torch.nn as nn\n",
    "import torch.optim as optim\n",
    "import numpy as np\n",
    "import random\n",
    "from torch.utils.data import Dataset, DataLoader\n",
    "from torch.nn.utils.rnn import pad_sequence\n",
    "import jsonlines\n",
    "from tqdm import tqdm\n",
    "import nltk\n",
    "from nltk.tokenize import word_tokenize\n",
    "import torch.nn.functional as F\n",
    "from sklearn.metrics import f1_score, accuracy_score\n",
    "import copy"
   ]
  },
  {
   "cell_type": "code",
   "execution_count": 2,
   "metadata": {},
   "outputs": [
    {
     "data": {
      "text/plain": [
       "device(type='cpu')"
      ]
     },
     "execution_count": 2,
     "metadata": {},
     "output_type": "execute_result"
    }
   ],
   "source": [
    "device = torch.device(\"cuda\" if torch.cuda.is_available() else \"cpu\")\n",
    "device"
   ]
  },
  {
   "cell_type": "code",
   "execution_count": 3,
   "metadata": {},
   "outputs": [],
   "source": [
    "DATA_PATH = '../data'"
   ]
  },
  {
   "cell_type": "code",
   "execution_count": 4,
   "metadata": {},
   "outputs": [],
   "source": [
    "SEED = 0\n",
    "torch.manual_seed(SEED)\n",
    "torch.cuda.manual_seed(SEED)\n",
    "np.random.seed(SEED)\n",
    "random.seed(SEED)"
   ]
  },
  {
   "cell_type": "code",
   "execution_count": 5,
   "metadata": {},
   "outputs": [
    {
     "name": "stderr",
     "output_type": "stream",
     "text": [
      "[nltk_data] Downloading package punkt to\n",
      "[nltk_data]     C:\\Users\\Saurav\\AppData\\Roaming\\nltk_data...\n",
      "[nltk_data]   Package punkt is already up-to-date!\n",
      "[nltk_data] Downloading package punkt_tab to\n",
      "[nltk_data]     C:\\Users\\Saurav\\AppData\\Roaming\\nltk_data...\n",
      "[nltk_data]   Package punkt_tab is already up-to-date!\n"
     ]
    },
    {
     "data": {
      "text/plain": [
       "True"
      ]
     },
     "execution_count": 5,
     "metadata": {},
     "output_type": "execute_result"
    }
   ],
   "source": [
    "nltk.download('punkt')\n",
    "nltk.download('punkt_tab')"
   ]
  },
  {
   "cell_type": "code",
   "execution_count": 6,
   "metadata": {},
   "outputs": [],
   "source": [
    "class DiplomacyVocabulary(Dataset):\n",
    "    def __init__(self):\n",
    "        # Initialize the vocabulary with special tokens\n",
    "        self.word2idx = {\"PAD\": 0, \"UNK\": 1}\n",
    "        self.idx2word = {0: \"PAD\", 1: \"UNK\"}\n",
    "        \n",
    "    def add_token(self, token):\n",
    "        # Add a new token to the vocabulary\n",
    "        if token not in self.word2idx:\n",
    "            idx = len(self.word2idx)\n",
    "            self.word2idx[token] = idx\n",
    "            self.idx2word[idx] = token\n",
    "        \n",
    "    def __len__(self):\n",
    "        return len(self.word2idx)\n",
    "    \n",
    "    def tokenize(self, message):\n",
    "        message = message.lower()\n",
    "        tokens = word_tokenize(message)\n",
    "        return [self.word2idx.get(token, 1) for token in tokens]"
   ]
  },
  {
   "cell_type": "code",
   "execution_count": 7,
   "metadata": {},
   "outputs": [],
   "source": [
    "class DiplomacyDataset(Dataset):\n",
    "    def __init__(self, file_path, vocab=None, construct=False):\n",
    "        self.data = []\n",
    "        self.vocab = vocab if vocab else DiplomacyVocabulary()\n",
    "        \n",
    "        with jsonlines.open(file_path, 'r') as f:\n",
    "            for line in f:\n",
    "                for i, message in enumerate(line['messages']):\n",
    "                    # Ignore messages with no sender labels\n",
    "                    if line['sender_labels'][i] == 'NOANNOTATION':\n",
    "                        continue\n",
    "                    self.data.append({\n",
    "                        'message': message,\n",
    "                        'label': 1 if line['sender_labels'][i] else 0 # 1 for True, 0 for False message\n",
    "                    })\n",
    "                    \n",
    "                    if construct:\n",
    "                        tokens = word_tokenize(message)\n",
    "                        for token in tokens:\n",
    "                            self.vocab.add_token(token)\n",
    "                \n",
    "    def __len__(self):\n",
    "        return len(self.data)\n",
    "    \n",
    "    def __getitem__(self, idx):\n",
    "        tokens = self.vocab.tokenize(self.data[idx]['message'])\n",
    "        \n",
    "        return {\n",
    "            'tokens': torch.tensor(tokens, dtype=torch.long),\n",
    "            'label': torch.tensor(self.data[idx]['label'], dtype=torch.long),\n",
    "        }"
   ]
  },
  {
   "cell_type": "code",
   "execution_count": 8,
   "metadata": {},
   "outputs": [],
   "source": [
    "def collate_fn(batch):\n",
    "    batch = sorted(batch, key=lambda x: len(x['tokens']), reverse=True)\n",
    "    \n",
    "    tokens = pad_sequence([item['tokens'] for item in batch], batch_first=True, padding_value=0)\n",
    "    labels = torch.stack([item['label'] for item in batch])\n",
    "    \n",
    "    return {\n",
    "        'tokens': tokens,\n",
    "        'labels': labels,\n",
    "    }"
   ]
  },
  {
   "cell_type": "code",
   "execution_count": 9,
   "metadata": {},
   "outputs": [],
   "source": [
    "train_dataset = DiplomacyDataset(f'{DATA_PATH}/train.jsonl', construct=True)\n",
    "train_loader = DataLoader(train_dataset, batch_size=32, shuffle=True, collate_fn=collate_fn)\n",
    "vocab = train_dataset.vocab\n",
    "\n",
    "val_dataset = DiplomacyDataset(f'{DATA_PATH}/validation.jsonl', vocab=vocab)\n",
    "val_loader = DataLoader(val_dataset, batch_size=32, shuffle=False, collate_fn=collate_fn)\n",
    "\n",
    "test_dataset = DiplomacyDataset(f'{DATA_PATH}/test.jsonl', vocab=vocab)\n",
    "test_loader = DataLoader(test_dataset, batch_size=32, shuffle=False, collate_fn=collate_fn)"
   ]
  },
  {
   "cell_type": "code",
   "execution_count": 10,
   "metadata": {},
   "outputs": [],
   "source": [
    "class LSTM_Model(nn.Module):\n",
    "    def __init__(self, vocab_size, pretrained_embeddings=None, embedding_dim=200, hidden_size=100):\n",
    "        super(LSTM_Model, self).__init__()\n",
    "        \n",
    "        self.embedding = nn.Embedding(vocab_size, embedding_dim)\n",
    "        if pretrained_embeddings is not None:\n",
    "            # Load the pretrained embeddings\n",
    "            self.embedding.weight.data.copy_(torch.from_numpy(pretrained_embeddings))\n",
    "            self.embedding.weight.requires_grad = False\n",
    "        # Initialize the BiLSTM layer\n",
    "        self.lstm = nn.LSTM(embedding_dim, hidden_size, batch_first=True, bidirectional=True)\n",
    "        self.dropout = nn.Dropout(0.5)\n",
    "        self.fc = nn.Linear(hidden_size * 2, 1)\n",
    "        \n",
    "    def forward(self, tokens):\n",
    "        embeddings = self.embedding(tokens)\n",
    "        \n",
    "        lstm_out, _ = self.lstm(embeddings)\n",
    "        \n",
    "        # Use max pooling over the LSTM outputs\n",
    "        pooled_out, _ = torch.max(lstm_out, dim=1)\n",
    "        \n",
    "        pooled_out = self.dropout(pooled_out)\n",
    "        \n",
    "        logits = self.fc(pooled_out)\n",
    "        # Return the logits for binary classification\n",
    "        return logits.squeeze(1)"
   ]
  },
  {
   "cell_type": "code",
   "execution_count": 11,
   "metadata": {},
   "outputs": [
    {
     "name": "stderr",
     "output_type": "stream",
     "text": [
      "1193514it [00:17, 68701.75it/s]\n"
     ]
    }
   ],
   "source": [
    "embedding_path = '../embeddings/glove.twitter.27B.200d.txt'\n",
    "\n",
    "pretrained_embeddings = np.zeros((len(vocab), 200))\n",
    "\n",
    "with open(embedding_path, 'r', encoding='utf-8') as f:\n",
    "    for line in tqdm(f):\n",
    "        values = line.split()\n",
    "        word = values[0]\n",
    "        if word in vocab.word2idx:\n",
    "            idx = vocab.word2idx[word]\n",
    "            pretrained_embeddings[idx] = np.array(values[1:], dtype='float32')"
   ]
  },
  {
   "cell_type": "code",
   "execution_count": 12,
   "metadata": {},
   "outputs": [
    {
     "name": "stderr",
     "output_type": "stream",
     "text": [
      "100%|██████████| 411/411 [00:22<00:00, 17.96it/s]\n"
     ]
    },
    {
     "name": "stdout",
     "output_type": "stream",
     "text": [
      "Epoch: 1/15\n",
      "Train Loss: 0.05138159521522313\n",
      "Validation Macro F1: 0.06983685364811085\n",
      "Validation Weighted F1: 0.061972671472173\n",
      "Validation Accuracy: 0.06991525423728813\n"
     ]
    },
    {
     "name": "stderr",
     "output_type": "stream",
     "text": [
      "100%|██████████| 411/411 [00:22<00:00, 18.57it/s]\n"
     ]
    },
    {
     "name": "stdout",
     "output_type": "stream",
     "text": [
      "Epoch: 2/15\n",
      "Train Loss: 0.0494637707261926\n",
      "Validation Macro F1: 0.17325739649897282\n",
      "Validation Weighted F1: 0.25552196682004963\n",
      "Validation Accuracy: 0.182909604519774\n"
     ]
    },
    {
     "name": "stderr",
     "output_type": "stream",
     "text": [
      "100%|██████████| 411/411 [00:22<00:00, 18.30it/s]\n"
     ]
    },
    {
     "name": "stdout",
     "output_type": "stream",
     "text": [
      "Epoch: 3/15\n",
      "Train Loss: 0.047815250060600376\n",
      "Validation Macro F1: 0.20125930888704707\n",
      "Validation Weighted F1: 0.3061913845820305\n",
      "Validation Accuracy: 0.2175141242937853\n"
     ]
    },
    {
     "name": "stderr",
     "output_type": "stream",
     "text": [
      "100%|██████████| 411/411 [00:24<00:00, 17.08it/s]\n"
     ]
    },
    {
     "name": "stdout",
     "output_type": "stream",
     "text": [
      "Epoch: 4/15\n",
      "Train Loss: 0.0442759493057709\n",
      "Validation Macro F1: 0.26118296276170605\n",
      "Validation Weighted F1: 0.42022648318255285\n",
      "Validation Accuracy: 0.3015536723163842\n"
     ]
    },
    {
     "name": "stderr",
     "output_type": "stream",
     "text": [
      "100%|██████████| 411/411 [00:24<00:00, 16.98it/s]\n"
     ]
    },
    {
     "name": "stdout",
     "output_type": "stream",
     "text": [
      "Epoch: 5/15\n",
      "Train Loss: 0.041205868222399494\n",
      "Validation Macro F1: 0.4312021014433883\n",
      "Validation Weighted F1: 0.735277220486472\n",
      "Validation Accuracy: 0.6228813559322034\n"
     ]
    },
    {
     "name": "stderr",
     "output_type": "stream",
     "text": [
      "100%|██████████| 411/411 [00:23<00:00, 17.75it/s]\n"
     ]
    },
    {
     "name": "stdout",
     "output_type": "stream",
     "text": [
      "Epoch: 6/15\n",
      "Train Loss: 0.03769032843410969\n",
      "Validation Macro F1: 0.39120478274446624\n",
      "Validation Weighted F1: 0.6592518039523143\n",
      "Validation Accuracy: 0.530367231638418\n"
     ]
    },
    {
     "name": "stderr",
     "output_type": "stream",
     "text": [
      "100%|██████████| 411/411 [00:23<00:00, 17.43it/s]\n"
     ]
    },
    {
     "name": "stdout",
     "output_type": "stream",
     "text": [
      "Epoch: 7/15\n",
      "Train Loss: 0.03499473093435567\n",
      "Validation Macro F1: 0.3691295386381273\n",
      "Validation Weighted F1: 0.6386902833862214\n",
      "Validation Accuracy: 0.5049435028248588\n"
     ]
    },
    {
     "name": "stderr",
     "output_type": "stream",
     "text": [
      "100%|██████████| 411/411 [00:22<00:00, 18.19it/s]\n"
     ]
    },
    {
     "name": "stdout",
     "output_type": "stream",
     "text": [
      "Epoch: 8/15\n",
      "Train Loss: 0.032257872019552256\n",
      "Validation Macro F1: 0.343328436545944\n",
      "Validation Weighted F1: 0.5803524118877647\n",
      "Validation Accuracy: 0.4442090395480226\n"
     ]
    },
    {
     "name": "stderr",
     "output_type": "stream",
     "text": [
      "100%|██████████| 411/411 [00:22<00:00, 18.18it/s]\n"
     ]
    },
    {
     "name": "stdout",
     "output_type": "stream",
     "text": [
      "Epoch: 9/15\n",
      "Train Loss: 0.02718315339237089\n",
      "Validation Macro F1: 0.44807001411837466\n",
      "Validation Weighted F1: 0.7643057771596424\n",
      "Validation Accuracy: 0.661723163841808\n"
     ]
    },
    {
     "name": "stderr",
     "output_type": "stream",
     "text": [
      "100%|██████████| 411/411 [00:22<00:00, 18.46it/s]\n"
     ]
    },
    {
     "name": "stdout",
     "output_type": "stream",
     "text": [
      "Epoch: 10/15\n",
      "Train Loss: 0.02406762770791776\n",
      "Validation Macro F1: 0.4643421052631579\n",
      "Validation Weighted F1: 0.8182842699970265\n",
      "Validation Accuracy: 0.7401129943502824\n"
     ]
    },
    {
     "name": "stderr",
     "output_type": "stream",
     "text": [
      "100%|██████████| 411/411 [00:22<00:00, 18.05it/s]\n"
     ]
    },
    {
     "name": "stdout",
     "output_type": "stream",
     "text": [
      "Epoch: 11/15\n",
      "Train Loss: 0.022138018966618465\n",
      "Validation Macro F1: 0.47217320722755507\n",
      "Validation Weighted F1: 0.831925689147502\n",
      "Validation Accuracy: 0.7612994350282486\n"
     ]
    },
    {
     "name": "stderr",
     "output_type": "stream",
     "text": [
      "100%|██████████| 411/411 [00:22<00:00, 18.04it/s]\n"
     ]
    },
    {
     "name": "stdout",
     "output_type": "stream",
     "text": [
      "Epoch: 12/15\n",
      "Train Loss: 0.01918560004432815\n",
      "Validation Macro F1: 0.47905818428797825\n",
      "Validation Weighted F1: 0.8544459068647202\n",
      "Validation Accuracy: 0.7980225988700564\n"
     ]
    },
    {
     "name": "stderr",
     "output_type": "stream",
     "text": [
      "100%|██████████| 411/411 [00:24<00:00, 16.67it/s]\n"
     ]
    },
    {
     "name": "stdout",
     "output_type": "stream",
     "text": [
      "Epoch: 13/15\n",
      "Train Loss: 0.01661848627459122\n",
      "Validation Macro F1: 0.49203422346459724\n",
      "Validation Weighted F1: 0.886812678659658\n",
      "Validation Accuracy: 0.8538135593220338\n"
     ]
    },
    {
     "name": "stderr",
     "output_type": "stream",
     "text": [
      "100%|██████████| 411/411 [00:26<00:00, 15.38it/s]\n"
     ]
    },
    {
     "name": "stdout",
     "output_type": "stream",
     "text": [
      "Epoch: 14/15\n",
      "Train Loss: 0.01586018660085371\n",
      "Validation Macro F1: 0.4618880461355231\n",
      "Validation Weighted F1: 0.8090526160710081\n",
      "Validation Accuracy: 0.7259887005649718\n"
     ]
    },
    {
     "name": "stderr",
     "output_type": "stream",
     "text": [
      "100%|██████████| 411/411 [00:21<00:00, 18.86it/s]\n"
     ]
    },
    {
     "name": "stdout",
     "output_type": "stream",
     "text": [
      "Epoch: 15/15\n",
      "Train Loss: 0.01583990312822689\n",
      "Validation Macro F1: 0.48811972231386397\n",
      "Validation Weighted F1: 0.8869391441948788\n",
      "Validation Accuracy: 0.8545197740112994\n"
     ]
    }
   ],
   "source": [
    "model = LSTM_Model(vocab_size=len(vocab), pretrained_embeddings=pretrained_embeddings).to(device)\n",
    "\n",
    "optimizer = optim.Adam(model.parameters(), lr=0.003)\n",
    "\n",
    "# Adjusting the loss function to account for class imbalance\n",
    "criteria = nn.BCEWithLogitsLoss(pos_weight=torch.tensor([1.0/30.0]).to(device))\n",
    "\n",
    "EPOCHS = 15\n",
    "PATIENCE = 5\n",
    "\n",
    "patience_counter = 0\n",
    "best_f1 = 0.0\n",
    "best_model = None\n",
    "\n",
    "for epoch in range(EPOCHS):\n",
    "    model.train()\n",
    "    total_loss = 0.0\n",
    "    for batch in tqdm(train_loader):\n",
    "        tokens = batch['tokens'].to(device)\n",
    "        labels = batch['labels'].float().to(device)\n",
    "        \n",
    "        optimizer.zero_grad()\n",
    "        \n",
    "        logits = model(tokens)\n",
    "        \n",
    "        loss = criteria(logits, labels)\n",
    "        loss.backward()\n",
    "        \n",
    "        optimizer.step()\n",
    "        \n",
    "        total_loss += loss.item()\n",
    "        \n",
    "    print(f'Epoch: {epoch+1}/{EPOCHS}')\n",
    "    print(f'Train Loss: {total_loss/len(train_loader)}')\n",
    "        \n",
    "    model.eval()\n",
    "    val_preds = []\n",
    "    val_labels = []\n",
    "    with torch.no_grad():\n",
    "        for batch in val_loader:\n",
    "            tokens = batch['tokens'].to(device)\n",
    "            labels = batch['labels'].float().to(device)\n",
    "            \n",
    "            logits = model(tokens)\n",
    "            preds = (logits > 0.5).float()\n",
    "            \n",
    "            val_preds.extend(preds.cpu().numpy())\n",
    "            val_labels.extend(labels.cpu().numpy())\n",
    "            \n",
    "    f1 = f1_score(val_labels, val_preds, average='macro')\n",
    "    weighted_f1 = f1_score(val_labels, val_preds, average='weighted')\n",
    "    accuracy = accuracy_score(val_labels, val_preds)\n",
    "    \n",
    "    if f1 > best_f1:\n",
    "        best_f1 = f1\n",
    "        best_model = copy.deepcopy(model.state_dict())\n",
    "        patience_counter = 0\n",
    "    else:\n",
    "        patience_counter += 1\n",
    "        \n",
    "    print(f'Validation Macro F1: {f1}')\n",
    "    print(f'Validation Weighted F1: {weighted_f1}')\n",
    "    print(f'Validation Accuracy: {accuracy}')\n",
    "        \n",
    "    if patience_counter >= PATIENCE:\n",
    "        print(f'Early stopping at epoch {epoch+1}')\n",
    "        break\n",
    "    \n",
    "torch.save(best_model, 'model.pth')"
   ]
  },
  {
   "cell_type": "code",
   "execution_count": 14,
   "metadata": {},
   "outputs": [
    {
     "name": "stdout",
     "output_type": "stream",
     "text": [
      "Test Macro F1: 0.5216035825665345\n",
      "Test Weighted F1: 0.830274129151589\n",
      "Test Accuracy: 0.8143013498723094\n"
     ]
    }
   ],
   "source": [
    "model = LSTM_Model(vocab_size=len(vocab)).to(device)\n",
    "model.load_state_dict(torch.load('model.pth'))\n",
    "\n",
    "model.eval()\n",
    "with torch.no_grad():\n",
    "    test_preds = []\n",
    "    test_labels = []\n",
    "    for batch in test_loader:\n",
    "        tokens = batch['tokens'].to(device)\n",
    "        labels = batch['labels'].float().to(device)\n",
    "        \n",
    "        logits = model(tokens)\n",
    "        preds = (logits > 0.5).float()\n",
    "        \n",
    "        test_preds.extend(preds.cpu().numpy())\n",
    "        test_labels.extend(labels.cpu().numpy())\n",
    "        \n",
    "    f1 = f1_score(test_labels, test_preds, average='macro')\n",
    "    weighted_f1 = f1_score(test_labels, test_preds, average='weighted')\n",
    "    accuracy = accuracy_score(test_labels, test_preds)\n",
    "    \n",
    "    \n",
    "print(f'Test Macro F1: {f1}')\n",
    "print(f'Test Weighted F1: {weighted_f1}')\n",
    "print(f'Test Accuracy: {accuracy}')"
   ]
  }
 ],
 "metadata": {
  "kernelspec": {
   "display_name": "Python 3",
   "language": "python",
   "name": "python3"
  },
  "language_info": {
   "codemirror_mode": {
    "name": "ipython",
    "version": 3
   },
   "file_extension": ".py",
   "mimetype": "text/x-python",
   "name": "python",
   "nbconvert_exporter": "python",
   "pygments_lexer": "ipython3",
   "version": "3.10.11"
  }
 },
 "nbformat": 4,
 "nbformat_minor": 2
}
