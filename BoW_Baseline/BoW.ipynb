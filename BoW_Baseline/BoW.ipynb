{
 "cells": [
  {
   "cell_type": "code",
   "execution_count": 63,
   "metadata": {},
   "outputs": [],
   "source": [
    "import jsonlines\n",
    "import json\n",
    "import os\n",
    "import spacy\n",
    "from sklearn.feature_extraction.text import CountVectorizer\n",
    "from sklearn.linear_model import LogisticRegression\n",
    "from sklearn.metrics import classification_report\n",
    "from spacy.tokenizer import Tokenizer\n",
    "from spacy.lang.en import English"
   ]
  },
  {
   "cell_type": "code",
   "execution_count": 64,
   "metadata": {},
   "outputs": [
    {
     "name": "stdout",
     "output_type": "stream",
     "text": [
      "Train data size: 189\n",
      "Validation data size: 21\n",
      "Test data size: 42\n"
     ]
    }
   ],
   "source": [
    "DATA_PATH = '../data'\n",
    "\n",
    "with jsonlines.open(os.path.join(DATA_PATH, 'train.jsonl'), 'r') as f:\n",
    "    train_data = list(f)\n",
    "    \n",
    "with jsonlines.open(os.path.join(DATA_PATH, 'validation.jsonl'), 'r') as f:\n",
    "    val_data = list(f)\n",
    "    \n",
    "with jsonlines.open(os.path.join(DATA_PATH, 'test.jsonl'), 'r') as f:\n",
    "    test_data = list(f)\n",
    "    \n",
    "print(\"Train data size:\", len(train_data))\n",
    "print(\"Validation data size:\", len(val_data))\n",
    "print(\"Test data size:\", len(test_data))"
   ]
  },
  {
   "cell_type": "code",
   "execution_count": 65,
   "metadata": {},
   "outputs": [
    {
     "name": "stdout",
     "output_type": "stream",
     "text": [
      "{1, 2, 3, 5, 6, 7, 8, 9, 10}\n",
      "{11}\n",
      "{12, 4}\n"
     ]
    }
   ],
   "source": [
    "print(set(i['game_id'] for i in train_data))\n",
    "print(set(i['game_id'] for i in val_data))\n",
    "print(set(i['game_id'] for i in test_data))"
   ]
  },
  {
   "cell_type": "code",
   "execution_count": 66,
   "metadata": {},
   "outputs": [],
   "source": [
    "def format_dataset(dataset):\n",
    "    new_dataset = []\n",
    "    for i in dataset:\n",
    "        for j in range(0, len(i['messages'])):\n",
    "            new_dataset.append({\n",
    "                'message': i['messages'][j],\n",
    "                'sender_annotation': i['sender_labels'][j],\n",
    "                'receiver_annotation': i['receiver_labels'][j],\n",
    "                'score_delta': i['game_score_delta'][j]\n",
    "            })\n",
    "    return new_dataset"
   ]
  },
  {
   "cell_type": "code",
   "execution_count": 67,
   "metadata": {},
   "outputs": [],
   "source": [
    "train_data = format_dataset(train_data)\n",
    "val_data = format_dataset(val_data)\n",
    "test_data = format_dataset(test_data)"
   ]
  },
  {
   "cell_type": "code",
   "execution_count": 68,
   "metadata": {},
   "outputs": [
    {
     "name": "stderr",
     "output_type": "stream",
     "text": [
      "c:\\Users\\Saurav\\AppData\\Local\\Programs\\Python\\Python310\\lib\\site-packages\\sklearn\\feature_extraction\\text.py:521: UserWarning: The parameter 'token_pattern' will not be used since 'tokenizer' is not None'\n",
      "  warnings.warn(\n",
      "c:\\Users\\Saurav\\AppData\\Local\\Programs\\Python\\Python310\\lib\\site-packages\\sklearn\\feature_extraction\\text.py:406: UserWarning: Your stop_words may be inconsistent with your preprocessing. Tokenizing the stop words generated tokens ['d', 'll', 'm', 've'] not in stop_words.\n",
      "  warnings.warn(\n",
      "c:\\Users\\Saurav\\AppData\\Local\\Programs\\Python\\Python310\\lib\\site-packages\\sklearn\\feature_extraction\\text.py:1364: UserWarning: Upper case characters found in vocabulary while 'lowercase' is True. These entries will not be matched with any documents\n",
      "  warnings.warn(\n"
     ]
    }
   ],
   "source": [
    "nlp = English()\n",
    "\n",
    "def spacy_tokenizer(text):\n",
    "    doc = nlp(text)\n",
    "    tokens = []\n",
    "    for token in doc:\n",
    "        if token.is_stop or token.is_punct:\n",
    "            continue\n",
    "        if token.like_num:\n",
    "            tokens.append(\"_NUM_\")\n",
    "        else:\n",
    "            tokens.append(token.text)\n",
    "    return tokens\n",
    "\n",
    "vectorizer = CountVectorizer(tokenizer=spacy_tokenizer, stop_words=list(spacy.lang.en.stop_words.STOP_WORDS), strip_accents='unicode')\n",
    "train_vectors = vectorizer.fit_transform([i['message'].lower() for i in train_data])\n",
    "\n",
    "test_vectorizer = CountVectorizer(tokenizer=spacy_tokenizer, stop_words=list(spacy.lang.en.stop_words.STOP_WORDS), strip_accents='unicode', vocabulary=vectorizer.vocabulary_)\n",
    "test_vectors = test_vectorizer.fit_transform([i['message'].lower() for i in test_data])"
   ]
  },
  {
   "cell_type": "code",
   "execution_count": 87,
   "metadata": {},
   "outputs": [
    {
     "name": "stdout",
     "output_type": "stream",
     "text": [
      "              precision    recall  f1-score   support\n",
      "\n",
      "           0      0.142     0.242     0.179       240\n",
      "           1      0.922     0.860     0.890      2501\n",
      "\n",
      "    accuracy                          0.806      2741\n",
      "   macro avg      0.532     0.551     0.534      2741\n",
      "weighted avg      0.854     0.806     0.828      2741\n",
      "\n"
     ]
    }
   ],
   "source": [
    "log_model = LogisticRegression(max_iter=1000, class_weight='balanced')\n",
    "\n",
    "log_model.fit(train_vectors, [0 if i['sender_annotation'] == False else 1 for i in train_data])\n",
    "predictions = log_model.predict(test_vectors)\n",
    "print(classification_report([0 if i['sender_annotation'] == False else 1 for i in test_data], predictions, zero_division=0, digits=3))"
   ]
  }
 ],
 "metadata": {
  "kernelspec": {
   "display_name": "Python 3",
   "language": "python",
   "name": "python3"
  },
  "language_info": {
   "codemirror_mode": {
    "name": "ipython",
    "version": 3
   },
   "file_extension": ".py",
   "mimetype": "text/x-python",
   "name": "python",
   "nbconvert_exporter": "python",
   "pygments_lexer": "ipython3",
   "version": "3.10.11"
  }
 },
 "nbformat": 4,
 "nbformat_minor": 2
}
